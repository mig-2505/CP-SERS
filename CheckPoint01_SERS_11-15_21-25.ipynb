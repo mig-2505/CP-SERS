{
  "nbformat": 4,
  "nbformat_minor": 0,
  "metadata": {
    "colab": {
      "provenance": []
    },
    "kernelspec": {
      "name": "python3",
      "display_name": "Python 3"
    },
    "language_info": {
      "name": "python"
    }
  },
  "cells": [
    {
      "cell_type": "markdown",
      "source": [
        "## **INTEGRANTE:**\n",
        "Giovanna Fernandes Pereira | RM: 565434\n",
        "\n",
        "*   PARTE 01 - exs: 11, 12, 13, 14 e 15\n",
        "*   PARTE 02 - exs: 21, 22, 23, 24 e 25"
      ],
      "metadata": {
        "id": "7KOLmzOm5kNI"
      }
    },
    {
      "cell_type": "markdown",
      "source": [
        "# **Importação de pacotes**"
      ],
      "metadata": {
        "id": "ULMAivsc7Ss3"
      }
    },
    {
      "cell_type": "code",
      "source": [
        "import pandas as pd\n",
        "import matplotlib.pyplot as plt\n",
        "import numpy as np\n",
        "\n",
        "from sklearn.cluster import KMeans\n",
        "from sklearn.decomposition import PCA\n",
        "from sklearn.preprocessing import PolynomialFeatures\n",
        "from sklearn.linear_model import LinearRegression\n",
        "from sklearn.metrics import mean_squared_error\n",
        "\n",
        "import warnings\n",
        "warnings.filterwarnings(\"ignore\")"
      ],
      "metadata": {
        "id": "ePC2biM55dv5"
      },
      "execution_count": null,
      "outputs": []
    },
    {
      "cell_type": "markdown",
      "source": [
        "# **Criando um dataframe com base non arquivo .csv externo**"
      ],
      "metadata": {
        "id": "oojDa1VP6_iP"
      }
    },
    {
      "cell_type": "code",
      "source": [
        "df = pd.read_csv('/content/household_power_consumption.txt', sep=';')"
      ],
      "metadata": {
        "id": "leMSFTvg6ze_"
      },
      "execution_count": null,
      "outputs": []
    },
    {
      "cell_type": "markdown",
      "source": [
        "# **Análise Exploratória**"
      ],
      "metadata": {
        "id": "aYh3UMwdAKB0"
      }
    },
    {
      "cell_type": "code",
      "source": [
        "# Visualizar os primeiros registros (linhas) -----> atributos (colunas)\n",
        "df.head()"
      ],
      "metadata": {
        "id": "Z4WVSc7X7h03"
      },
      "execution_count": null,
      "outputs": []
    },
    {
      "cell_type": "code",
      "source": [
        "# Nome dos atributos (colunas)\n",
        "df.columns"
      ],
      "metadata": {
        "id": "qpJGCr8p77Jm"
      },
      "execution_count": null,
      "outputs": []
    },
    {
      "cell_type": "code",
      "source": [
        "# Tamanho do dataframe\n",
        "df.shape"
      ],
      "metadata": {
        "id": "mZAAQp3P8S3-"
      },
      "execution_count": null,
      "outputs": []
    },
    {
      "cell_type": "code",
      "source": [
        "print(f'O dataframe tem {df.shape[0]} linhas e {df.shape[1]} colunas')"
      ],
      "metadata": {
        "id": "tio8qT518Zx2"
      },
      "execution_count": null,
      "outputs": []
    },
    {
      "cell_type": "code",
      "source": [
        "# Retorna as características das colunas\n",
        "df.info()"
      ],
      "metadata": {
        "id": "BoYKVviYD_7-"
      },
      "execution_count": null,
      "outputs": []
    },
    {
      "cell_type": "code",
      "source": [
        "# object ------> colunas com dados categóricos (tipicamente String)\n",
        "# int e float ----> colunas com dados numéricos/contínuos"
      ],
      "metadata": {
        "id": "AJAvwxjcD4mt"
      },
      "execution_count": null,
      "outputs": []
    },
    {
      "cell_type": "code",
      "source": [
        "# Descrição estatística das colunas numéricas\n",
        "df.describe()"
      ],
      "metadata": {
        "id": "QpMR0zMZ-PgE"
      },
      "execution_count": null,
      "outputs": []
    },
    {
      "cell_type": "markdown",
      "source": [
        "# **PARTE 01 - Data Science e Machine Learning no Python e Orange Data Mining**"
      ],
      "metadata": {
        "id": "0BfcRcMgl1nK"
      }
    },
    {
      "cell_type": "markdown",
      "source": [
        "## **11. Calcule a correlação entre as variáveis Global_active_power, Global_reactive_power, Voltage e Global_intensity.**"
      ],
      "metadata": {
        "id": "wPhJ78rDFqyf"
      }
    },
    {
      "cell_type": "code",
      "source": [
        "variaveis = ['Global_active_power', 'Global_reactive_power', 'Voltage', 'Global_intensity']\n",
        "for col in variaveis:\n",
        "   df[col] = pd.to_numeric(df[col], errors='coerce')\n",
        "display(df[variaveis].corr())\n",
        "\n",
        "# OU\n",
        "\n",
        "# variaveis = ['Global_active_power', 'Global_reactive_power', 'Voltage', 'Global_intensity']\n",
        "# df[variaveis].corr()"
      ],
      "metadata": {
        "id": "JcJbAmW49iSc"
      },
      "execution_count": null,
      "outputs": []
    },
    {
      "cell_type": "markdown",
      "source": [
        "## **12. Crie uma nova variável chamada Total_Sub_metering que some Sub_metering_1, Sub_metering_2 e Sub_metering_3.**"
      ],
      "metadata": {
        "id": "r6Scb4EVNJGY"
      }
    },
    {
      "cell_type": "code",
      "source": [
        "df['Sub_metering_1'] = pd.to_numeric(df['Sub_metering_1'], errors='coerce')\n",
        "df['Sub_metering_2'] = pd.to_numeric(df['Sub_metering_2'], errors='coerce')\n",
        "df['Total_Sub_metering'] = df['Sub_metering_1'] + df['Sub_metering_2'] + df['Sub_metering_3']\n",
        "display(df['Total_Sub_metering'].head())\n",
        "\n",
        "# OU\n",
        "\n",
        "# df['Total_Sub_metering'] = df['Sub_metering_1'] + df['Sub_metering_2'] + df['Sub_metering_3']\n",
        "# df['Total_Sub_metering'].head()"
      ],
      "metadata": {
        "id": "ySOWVYoG9z4c"
      },
      "execution_count": null,
      "outputs": []
    },
    {
      "cell_type": "markdown",
      "source": [
        "## **13. Verifique se há algum mês em que Total_Sub_metering ultrapassa a média de Global_active_power.**"
      ],
      "metadata": {
        "id": "MNFEUcRsR6y-"
      }
    },
    {
      "cell_type": "code",
      "source": [
        "df['Date'] = pd.to_datetime(df['Date'], format='%d/%m/%Y', errors='coerce')\n",
        "df['AnoMes'] = df['Date'].dt.to_period('M')\n",
        "media_global = df['Global_active_power'].mean()\n",
        "meses_total = df.groupby('AnoMes')['Total_Sub_metering'].mean()\n",
        "meses_acima_media = meses_total[meses_total > media_global]\n",
        "display(meses_acima_media)\n",
        "\n",
        "# OU\n",
        "\n",
        "# media_global = df['Global_active_power'].mean()\n",
        "# meses_total = df.groupby('AnoMes')['Total_Sub_metering'].mean()\n",
        "# meses_acima_media = meses_total[meses_total > media_global]\n",
        "# display(meses_acima_media)"
      ],
      "metadata": {
        "id": "_vne0GDm-IcL"
      },
      "execution_count": null,
      "outputs": []
    },
    {
      "cell_type": "markdown",
      "source": [
        "## **14. Faça um gráfico de série temporal do Voltage para o ano de 2008.**"
      ],
      "metadata": {
        "id": "UsxmqGj1T1ws"
      }
    },
    {
      "cell_type": "code",
      "source": [
        "df['DateTime'] = pd.to_datetime(df['Date'].astype(str) + ' ' + df['Time'])\n",
        "\n",
        "df_2008 = df[df['DateTime'].dt.year == 2008]\n",
        "\n",
        "plt.figure(figsize=(15, 6))\n",
        "plt.plot(df_2008['DateTime'], df_2008['Voltage'])\n",
        "plt.title('Time Series of Voltage for 2008')\n",
        "plt.xlabel('Date and Time')\n",
        "plt.ylabel('Voltage')\n",
        "plt.grid(True)\n",
        "plt.show()\n",
        "\n",
        "# OU\n",
        "\n",
        "# df_2008 = df[df['Date'].dt.year == 2008]\n",
        "# df_2008.set_index('Date')['Voltage'].plot()\n",
        "# plt.title('Série Temporal do Voltage - Ano 2008')\n",
        "# plt.ylabel('Voltage')\n",
        "# plt.show()"
      ],
      "metadata": {
        "id": "IvqDMIuGU8uP"
      },
      "execution_count": null,
      "outputs": []
    },
    {
      "cell_type": "markdown",
      "source": [
        "## **15. Compare o consumo entre os meses de verão e inverno (no hemisfério norte).**"
      ],
      "metadata": {
        "id": "w1okCEoUUfwl"
      }
    },
    {
      "cell_type": "code",
      "source": [
        "df['Mes'] = df['Date'].dt.month\n",
        "verao   = df[df['Mes'].isin([6, 7, 8])]\n",
        "inverno = df[df['Mes'].isin([12, 1, 2])]\n",
        "verao_mean   = verao['Global_active_power'].mean()\n",
        "inverno_mean = inverno['Global_active_power'].mean()\n",
        "print(f'Média de Global_active_power no verão: {verao_mean:}')          # OU -> {verao_mean:.2f}\n",
        "print(f'Média de Global_active_power no inverno: {inverno_mean:}')      # OU -> {inverno_mean:.2f}"
      ],
      "metadata": {
        "id": "cvQppaafYRwo"
      },
      "execution_count": null,
      "outputs": []
    },
    {
      "cell_type": "markdown",
      "source": [
        "# **PARTE 02 – Exercícios adicionais no dataset inicial**"
      ],
      "metadata": {
        "id": "2S1wBc8wl--W"
      }
    },
    {
      "cell_type": "markdown",
      "source": [
        "## **21. Séries temporais por hora**"
      ],
      "metadata": {
        "id": "xUFSTY-cmJKb"
      }
    },
    {
      "cell_type": "code",
      "source": [
        "df['Datetime'] = pd.to_datetime(df['Date'].astype(str) + ' ' + df['Time'])\n",
        "df = df.set_index('Datetime')\n",
        "consumo_horario = df['Global_active_power'].resample('H').mean()\n",
        "consumo_por_hora = consumo_horario.groupby(consumo_horario.index.hour).mean()\n",
        "display(consumo_por_hora.sort_index().to_frame(name='Média de Consumo por Hora'))\n",
        "\n",
        "display(consumo_por_hora.sort_values(ascending=False).head())\n",
        "\n",
        "# OU\n",
        "\n",
        "# df['Datetime'] = pd.to_datetime(df['Date'].astype(str) + ' ' + df['Time'])\n",
        "# df = df.set_index('Datetime')\n",
        "# consumo_horario = df['Global_active_power'].resample('H').mean()\n",
        "# consumo_por_hora = consumo_horario.groupby(consumo_horario.index.hour).mean()\n",
        "# print(consumo_por_hora.sort_values(ascending=False).head())"
      ],
      "metadata": {
        "id": "1yXEfKh3sSnP"
      },
      "execution_count": null,
      "outputs": []
    },
    {
      "cell_type": "markdown",
      "source": [
        "## **22. Autocorrelação do consumo**"
      ],
      "metadata": {
        "id": "4wstapghtK-c"
      }
    },
    {
      "cell_type": "code",
      "source": [
        "serie = consumo_horario.dropna()\n",
        "\n",
        "autocorr_1h = serie.autocorr(lag=1)\n",
        "autocorr_24h = serie.autocorr(lag=24)\n",
        "autocorr_48h = serie.autocorr(lag=48)\n",
        "\n",
        "print(\"Autocorrelação 1h:\", autocorr_1h)\n",
        "print(\"Autocorrelação 24h:\", autocorr_24h)\n",
        "print(\"Autocorrelação 48h:\", autocorr_48h)"
      ],
      "metadata": {
        "id": "3CIKDeBhthJa"
      },
      "execution_count": null,
      "outputs": []
    },
    {
      "cell_type": "markdown",
      "source": [
        "### **Pergunta: existem padrões repetidos diariamente?**\n",
        "\n",
        "Com base nos resultados da autocorrelação:\n",
        "\n",
        "*   A **autocorrelação em 1 hora (0.71)** é relativamente alta, o que indica uma forte correlação positiva entre o consumo em uma hora e o consumo na hora anterior. Isso é esperado para dados de séries temporais onde os valores tendem a ser semelhantes aos valores passados recentes.\n",
        "*   A **autocorrelação em 24 horas (0.44)** também é positiva e moderadamente alta. Isso sugere que realmente existem padrões diários repetidos nos dados. O consumo em uma determinada hora é correlacionado com o consumo na mesma hora do dia anterior.\n",
        "*   A **autocorrelação em 48 horas (0.40)** é ligeiramente menor do que em 24 horas, mas ainda positiva. Isso sugere que o padrão ainda está um pouco presente após dois dias, mas menos pronunciado do que o padrão diário.\n",
        "\n",
        "Portanto, os resultados da autocorrelação, particularmente o lag de 24 horas, indicam a existência de padrões diários repetidos nos dados de consumo de energia."
      ],
      "metadata": {
        "id": "58M4MKpAu-8V"
      }
    },
    {
      "cell_type": "markdown",
      "source": [
        "## **23. Redução de dimensionalidade com PCA**"
      ],
      "metadata": {
        "id": "LAu7czT5yjkq"
      }
    },
    {
      "cell_type": "code",
      "source": [
        "X = df[['Global_active_power','Global_reactive_power','Voltage','Global_intensity']].dropna()\n",
        "pca = PCA(n_components=2)\n",
        "X_pca = pca.fit_transform(X)\n",
        "print(\"Variância explicada por componente:\", pca.explained_variance_ratio_)"
      ],
      "metadata": {
        "id": "_5Yui1pfyov3"
      },
      "execution_count": null,
      "outputs": []
    },
    {
      "cell_type": "markdown",
      "source": [
        "## **24. Visualização de clusters no espaço PCA**"
      ],
      "metadata": {
        "id": "v9eQy3E6zJTl"
      }
    },
    {
      "cell_type": "code",
      "source": [
        "kmeans = KMeans(n_clusters=3, random_state=42)\n",
        "clusters = kmeans.fit_predict(X_pca)\n",
        "\n",
        "plt.figure(figsize=(8,5))\n",
        "plt.scatter(X_pca[:,0], X_pca[:,1], c=clusters, cmap='viridis', alpha=0.5)\n",
        "plt.title(\"Clusters no espaço PCA (2 componentes)\")\n",
        "plt.xlabel(\"Componente 1\")\n",
        "plt.ylabel(\"Componente 2\")\n",
        "plt.show()"
      ],
      "metadata": {
        "id": "U5b5_ot8zPSp"
      },
      "execution_count": null,
      "outputs": []
    },
    {
      "cell_type": "markdown",
      "source": [
        "### **Pergunta: os grupos se separam de forma clara?**\n",
        "\n",
        "Com base na visualização dos clusters no espaço PCA:\n",
        "\n",
        "*   Os clusters não se separam de forma completamente clara, mas há uma distinção visível.\n",
        "*   Um dos clusters (o grupo verde no gráfico) parece estar mais claramente separado dos outros dois.\n",
        "*   Os outros dois clusters (os grupos amarelo e roxo no gráfico) mostram uma sobreposição considerável.\n",
        "\n",
        "Portanto, enquanto o PCA ajudou a identificar alguns padrões de agrupamento nos dados, os clusters não são totalmente distintos no espaço bidimensional reduzido."
      ],
      "metadata": {
        "id": "RVOxIk6D0qId"
      }
    },
    {
      "cell_type": "markdown",
      "source": [
        "## **25. Regressão polinomial vs linear**"
      ],
      "metadata": {
        "id": "XYZtWu2g1JN1"
      }
    },
    {
      "cell_type": "code",
      "source": [
        "X = df[['Voltage']].dropna()\n",
        "y = df.loc[X.index, 'Global_active_power']\n",
        "\n",
        "lin_model = LinearRegression()\n",
        "lin_model.fit(X, y)\n",
        "y_pred_lin = lin_model.predict(X)\n",
        "\n",
        "rmse_lin = np.sqrt(mean_squared_error(y, y_pred_lin))\n",
        "\n",
        "\n",
        "poly = PolynomialFeatures(degree=2)\n",
        "X_poly = poly.fit_transform(X)\n",
        "poly_model = LinearRegression()\n",
        "poly_model.fit(X_poly, y)\n",
        "y_pred_poly = poly_model.predict(X_poly)\n",
        "\n",
        "\n",
        "rmse_poly = np.sqrt(mean_squared_error(y, y_pred_poly))\n",
        "\n",
        "print(f\"RMSE Linear: {rmse_lin}\")\n",
        "print(f\"RMSE Polinomial (grau 2): {rmse_poly}\")\n",
        "\n",
        "\n",
        "plt.figure(figsize=(10, 6))\n",
        "plt.scatter(X, y, alpha=0.3, label=\"Dados reais\", s=5)\n",
        "\n",
        "\n",
        "X_plot = np.linspace(X.min(), X.max(), 100).reshape(-1, 1)\n",
        "X_plot_poly = poly.transform(X_plot)\n",
        "y_plot_poly = poly_model.predict(X_plot_poly)\n",
        "\n",
        "plt.plot(X, y_pred_lin, color='red', label=\"Regressão Linear\")\n",
        "plt.plot(X_plot, y_plot_poly, color='green', label=\"Regressão Polinomial (grau 2)\")\n",
        "\n",
        "plt.title(\"Regressão Polinomial vs Linear (Global_active_power vs Voltage)\")\n",
        "plt.xlabel(\"Voltage\")\n",
        "plt.ylabel(\"Global_active_power\")\n",
        "plt.legend()\n",
        "plt.grid(True)\n",
        "plt.show()"
      ],
      "metadata": {
        "id": "t55yXJX32Aoi"
      },
      "execution_count": null,
      "outputs": []
    }
  ]
}